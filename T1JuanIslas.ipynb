{
 "cells": [
  {
   "cell_type": "markdown",
   "metadata": {},
   "source": [
    "# **Presentación Personal**\n",
    "\n",
    "Mi nombre es Juan Carlos Islas Barajas, estudió nanotecnología en el ITESO, desde pequeño me interesó la investigación y las aplicaciones de la física en procesos industriales, por eso decdidí dedicarme a estudiar el mundo nanométrico.\n",
    "\n",
    "Vivo con mi madre y mis dos perros, en mis tiempos libres me dedico a dar asesorías personalizadas de matemáticas, nivel preparatoria, además de leer filosofía, coleccionar LP's, tocar música, hacer observaciones astronómicas y jugar boliche. Me gusta mucho la música, de no haber conocido la carrera en la que estoy, lo más seguro es que estuviera en alguna banda de rock tocando en algun bar de mala muerte.\n",
    "![Image](https://www.facebook.com/photo.php?fbid=110467923539310&set=a.110467940205975&type=3&theater)\n",
    "\n",
    "\n",
    "Actualmente busco dedicarle menos tiempo a la universidad para emprender en algunos proyectos musicales.\n"
   ]
  },
  {
   "cell_type": "markdown",
   "metadata": {},
   "source": [
    "## Programming language of the year? Python is standout in latest rankings\n",
    "\n",
    "El lenguaje de programación Python se ha posicionado entre los lenguajes de programación más utilizados, según señala Tiobe, generalmente es el primer idioma de programación que se enseña en escuelas y universidades, ya que es bastante útil para aprender proramación, estadística, programación web y científica\n",
    "\n",
    "Como señala Tiobe, a menudo es el primer idioma que se enseña en las universidades y es el lenguaje para el análisis estadístico, el aprendizaje automático, los scripts, la programación web y la computación científica, a su vez, Python también se ha convertido en el programa favorito de Hackers, por su facilidad de sintaxis y la amplia gama que hay de información sobre este lenguaje\n",
    "\n",
    "Los 20 lenguajes de programación más usados del 2019, fueron:\n",
    "\n",
    "1) Java\n",
    "\n",
    "\n",
    "2) C\n",
    "\n",
    "\n",
    "3) Python\n",
    "\n",
    "\n",
    "4) C ++\n",
    "\n",
    "\n",
    "5) Visual Basic .NET\n",
    "\n",
    "\n",
    "6) JavaScript\n",
    "\n",
    "\n",
    "7) C #\n",
    "\n",
    "\n",
    "8) PHP\n",
    "\n",
    "\n",
    "9) SQL\n",
    "\n",
    "\n",
    "10) Objective-C\n",
    "\n",
    "\n",
    "11) MATLAB\n",
    "\n",
    "\n",
    "12) R\n",
    "\n",
    "\n",
    "13) Perl\n",
    "\n",
    "\n",
    "14) lenguaje ensamblador\n",
    "\n",
    "\n",
    "15) Swift\n",
    "\n",
    "\n",
    "16) Go\n",
    "\n",
    "\n",
    "17) Delphi / Objeto Pascal\n",
    "\n",
    "\n",
    "19) Ruby\n",
    "\n",
    "\n",
    "20) PL / SQL\n",
    "\n",
    "\n",
    "20) Visual Basic.\n",
    "\n",
    "*https://www.zdnet.com/article/programming-language-of-the-year-python-is-standout-in-latest-rankings/*"
   ]
  },
  {
   "cell_type": "code",
   "execution_count": null,
   "metadata": {},
   "outputs": [],
   "source": []
  },
  {
   "cell_type": "code",
   "execution_count": null,
   "metadata": {},
   "outputs": [],
   "source": []
  }
 ],
 "metadata": {
  "kernelspec": {
   "display_name": "Python 3",
   "language": "python",
   "name": "python3"
  },
  "language_info": {
   "codemirror_mode": {
    "name": "ipython",
    "version": 3
   },
   "file_extension": ".py",
   "mimetype": "text/x-python",
   "name": "python",
   "nbconvert_exporter": "python",
   "pygments_lexer": "ipython3",
   "version": "3.7.3"
  }
 },
 "nbformat": 4,
 "nbformat_minor": 2
}
