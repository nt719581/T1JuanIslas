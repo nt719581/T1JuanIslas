{
 "cells": [
  {
   "cell_type": "markdown",
   "metadata": {},
   "source": [
    "# **Presentación Personal**\n",
    "\n",
    "Mi nombre es Juan Carlos Islas Barajas, estudió nanotecnología en el ITESO, desde pequeño me interesó la investigación y las aplicaciones de la física en procesos industriales, por eso decdidí dedicarme a estudiar el mundo nanométrico.\n",
    "\n",
    "Vivo con mi madre y mis dos perros, en mis tiempos libres me dedico a dar asesorías personalizadas de matemáticas, nivel preparatoria, además de leer filosofía, coleccionar LP's, tocar música, hacer observaciones astronómicas y jugar boliche. Me gusta mucho la música, de no haber conocido la carrera en la que estoy, lo más seguro es que estuviera en alguna banda de rock tocando en algun bar de mala muerte.\n",
    "![Image](https://www.facebook.com/photo.php?fbid=110467923539310&set=a.110467940205975&type=3&theater)\n",
    "\n",
    "\n",
    "Actualmente busco dedicarle menos tiempo a la universidad para emprender en algunos proyectos musicales."
   ]
  },
  {
   "cell_type": "code",
   "execution_count": null,
   "metadata": {},
   "outputs": [],
   "source": []
  },
  {
   "cell_type": "code",
   "execution_count": null,
   "metadata": {},
   "outputs": [],
   "source": []
  },
  {
   "cell_type": "code",
   "execution_count": null,
   "metadata": {},
   "outputs": [],
   "source": []
  }
 ],
 "metadata": {
  "kernelspec": {
   "display_name": "Python 3",
   "language": "python",
   "name": "python3"
  },
  "language_info": {
   "codemirror_mode": {
    "name": "ipython",
    "version": 3
   },
   "file_extension": ".py",
   "mimetype": "text/x-python",
   "name": "python",
   "nbconvert_exporter": "python",
   "pygments_lexer": "ipython3",
   "version": "3.7.3"
  }
 },
 "nbformat": 4,
 "nbformat_minor": 2
}
